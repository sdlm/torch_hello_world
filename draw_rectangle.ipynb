{
 "cells": [
  {
   "cell_type": "code",
   "execution_count": 1,
   "metadata": {},
   "outputs": [],
   "source": [
    "from PIL import Image, ImageFont, ImageDraw, ImageEnhance\n",
    "from matplotlib.pyplot import imshow\n",
    "import numpy as np\n",
    "import math\n",
    "from random import uniform\n",
    "%matplotlib inline"
   ]
  },
  {
   "cell_type": "code",
   "execution_count": 2,
   "metadata": {},
   "outputs": [],
   "source": [
    "IMG_SIZE = 32\n",
    "WIDTH = 13\n",
    "HEIGHT = 8\n",
    "MARGIN = math.sqrt((WIDTH/2)**2 + (HEIGHT/2)**2) + 3\n",
    "MAX_ANGLE = 30"
   ]
  },
  {
   "cell_type": "code",
   "execution_count": 3,
   "metadata": {},
   "outputs": [],
   "source": [
    "image = Image.new(\"L\", (IMG_SIZE, IMG_SIZE))\n",
    "draw = ImageDraw.Draw(image)\n",
    "draw.rectangle([(0, 0), image.size], fill=\"black\")\n",
    "\n",
    "rectangle_at_center = [\n",
    "    (IMG_SIZE/2 - WIDTH/2, IMG_SIZE/2 - HEIGHT/2),\n",
    "    (IMG_SIZE/2 + WIDTH/2, IMG_SIZE/2 + HEIGHT/2)\n",
    "]\n",
    "draw.rectangle(rectangle_at_center, fill=\"white\")"
   ]
  },
  {
   "cell_type": "code",
   "execution_count": 4,
   "metadata": {},
   "outputs": [
    {
     "data": {
      "image/png": "[encoded data removed]",
      "text/plain": [
       "<Figure size 432x288 with 1 Axes>"
      ]
     },
     "metadata": {
      "needs_background": "light"
     },
     "output_type": "display_data"
    }
   ],
   "source": [
    "theta = uniform(-MAX_ANGLE, MAX_ANGLE)\n",
    "rotated_image = image.rotate(theta, resample=Image.BICUBIC, expand=False)\n",
    "\n",
    "imshow(np.asarray(rotated_image));"
   ]
  },
  {
   "cell_type": "code",
   "execution_count": 5,
   "metadata": {},
   "outputs": [
    {
     "data": {
      "image/png": "[encoded data removed]",
      "text/plain": [
       "<Figure size 432x288 with 1 Axes>"
      ]
     },
     "metadata": {
      "needs_background": "light"
     },
     "output_type": "display_data"
    }
   ],
   "source": [
    "a = 1\n",
    "b = 0\n",
    "c = 0 #left/right (i.e. 5/-5)\n",
    "d = 0\n",
    "e = 1\n",
    "f = 0 #up/down (i.e. 5/-5)\n",
    "max_shift = IMG_SIZE/2 - MARGIN\n",
    "shift_x = int(uniform(-max_shift, max_shift))\n",
    "shift_y = int(uniform(-max_shift, max_shift))\n",
    "shifted_image = rotated_image.transform(\n",
    "    rotated_image.size, Image.AFFINE, (a, b, shift_x, d, e, shift_y)\n",
    ")\n",
    "\n",
    "imshow(np.asarray(shifted_image));"
   ]
  }
 ],
 "metadata": {
  "kernelspec": {
   "display_name": "Python 3",
   "language": "python",
   "name": "python3"
  },
  "language_info": {
   "codemirror_mode": {
    "name": "ipython",
    "version": 3
   },
   "file_extension": ".py",
   "mimetype": "text/x-python",
   "name": "python",
   "nbconvert_exporter": "python",
   "pygments_lexer": "ipython3",
   "version": "3.7.3"
  }
 },
 "nbformat": 4,
 "nbformat_minor": 2
}
